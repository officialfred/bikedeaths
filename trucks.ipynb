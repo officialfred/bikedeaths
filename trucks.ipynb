{
 "cells": [
  {
   "cell_type": "code",
   "execution_count": null,
   "metadata": {},
   "outputs": [],
   "source": [
    "import pandas as pd\n",
    "import geopandas as gpd\n",
    "import matplotlib.pyplot as plt\n",
    "import folium\n"
   ]
  },
  {
   "cell_type": "code",
   "execution_count": null,
   "metadata": {},
   "outputs": [],
   "source": [
    "url = \"https://data.cityofnewyork.us/resource/h9gi-nx95.geojson?$where=%20number_of_cyclist_killed%20%3E0%20AND%20crash_date%20%3E%20%222015-01-01%22%20&$limit=10000\"\n",
    "gdf = gpd.read_file(url)\n",
    "trckrts = gpd.read_file(\"truckroutes/geo_export_9730ec6f-fb34-4095-86b0-507e5ace8052.shp\")\n",
    "bkrts = gpd.read_file(\"bikeroutes/geo_export_409825c9-67ff-4791-b9b7-41a11da81add.shp\")"
   ]
  },
  {
   "cell_type": "code",
   "execution_count": null,
   "metadata": {},
   "outputs": [],
   "source": [
    "def format (gdf):\n",
    "    # drop rows w no geo (they have not lat or long either)\n",
    "    gdf = gdf.loc[gdf.geometry.notna()]\n",
    "\n",
    "\n",
    "    # select cols\n",
    "    gdf = gdf[[ 'crash_date', 'crash_time',\n",
    "         'on_street_name', 'off_street_name', \n",
    "       'number_of_cyclist_killed', 'number_of_motorist_killed', 'number_of_pedestrians_killed',\n",
    "       'vehicle_type_code1', 'contributing_factor_vehicle_1',\n",
    "       'vehicle_type_code2', 'contributing_factor_vehicle_2',\n",
    "       'vehicle_type_code_3','contributing_factor_vehicle_3',\n",
    "       'vehicle_type_code_4', 'contributing_factor_vehicle_4',\n",
    "       'vehicle_type_code_5', 'contributing_factor_vehicle_5', \n",
    "       'geometry']]\n",
    "\n",
    "    # put all in same format\n",
    "    gdf.rename(columns={'vehicle_type_code1': 'vehicle_type_code_1', 'vehicle_type_code2': 'vehicle_type_code_2'}, inplace=True)\n",
    "\n",
    "    # convert to ints\n",
    "    gdf.number_of_cyclist_killed = gdf.number_of_cyclist_killed.astype(int)\n",
    "    gdf.number_of_pedestrians_killed = gdf.number_of_pedestrians_killed.astype(int)\n",
    "    gdf.number_of_motorist_killed = gdf.number_of_motorist_killed.astype(int)\n",
    "\n",
    "    vehicles = pd.DataFrame()\n",
    "\n",
    "    for i in range (1, 6):\n",
    "        vehicle_code = 'vehicle_type_code_' + str(i)\n",
    "        contributing_factor  =  'contributing_factor_vehicle_' + str(i)\n",
    "        vehicles  = vehicles.append(gdf[['number_of_cyclist_killed', vehicle_code,\n",
    "        contributing_factor, 'geometry']].rename(columns = {vehicle_code : 'vehicle_type_code',\n",
    "        contributing_factor : 'contributing_factor_vehicle'}))\n",
    "        \n",
    "    return(vehicles)"
   ]
  },
  {
   "cell_type": "code",
   "execution_count": null,
   "metadata": {},
   "outputs": [],
   "source": [
    "crashes = format(gdf)\n",
    "crashes.head()"
   ]
  },
  {
   "cell_type": "code",
   "execution_count": null,
   "metadata": {},
   "outputs": [],
   "source": [
    "print(crashes.shape)\n",
    "\n",
    "crashes.dropna(subset=['geometry'])"
   ]
  },
  {
   "cell_type": "code",
   "execution_count": null,
   "metadata": {},
   "outputs": [],
   "source": [
    "crashes.vehicle_type_code.unique()"
   ]
  },
  {
   "cell_type": "code",
   "execution_count": null,
   "metadata": {},
   "outputs": [],
   "source": [
    "crashes = crashes[crashes['vehicle_type_code'].isin([\n",
    "    'Box Truck', 'Garbage or Refuse','Tractor Truck Gasoline', 'Tow Truck / Wrecker','Tractor Truck Diesel',\n",
    "    'Flat Bed', 'Flat Rack', 'Dump', 'Concrete Mixer', 'Tanker', 'LARGE COM VEH(6 OR MORE TIRES)'])]"
   ]
  },
  {
   "cell_type": "code",
   "execution_count": null,
   "metadata": {},
   "outputs": [],
   "source": [
    "trckrts.to_crs('epsg:3857', inplace=True)\n",
    "crashes.to_crs('epsg:3857', inplace=True)\n",
    "bkrts.to_crs('epsg:3857', inplace=True)"
   ]
  },
  {
   "cell_type": "code",
   "execution_count": null,
   "metadata": {},
   "outputs": [],
   "source": [
    "circles = crashes.copy()\n",
    "circles.geometry = circles.geometry.buffer(100)\n",
    "\n",
    "fig, ax = plt.subplots(figsize=(40, 40))\n",
    "# cx.add_basemap(ax, source=cx.providers.CartoDB.Voyager)\n",
    "# trckrts.plot(ax=ax, color='blue', zorder=1)\n",
    "bkrts.plot(ax=ax, color='green')\n",
    "circles.plot(ax=ax, color='red')\n",
    "\n",
    "ax.set_axis_off()"
   ]
  },
  {
   "cell_type": "code",
   "execution_count": null,
   "metadata": {},
   "outputs": [],
   "source": [
    "trckcrashes = gpd.sjoin(crashes, trckrts, how='left', predicate='crosses')\n",
    "notrckcrashes = trckcrashes.loc[trckcrashes['index_right'].isna()]\n",
    "trckcrashes = trckcrashes.loc[trckcrashes['index_right'].notna()]\n",
    "trckcrashes"
   ]
  },
  {
   "cell_type": "code",
   "execution_count": null,
   "metadata": {},
   "outputs": [],
   "source": [
    "\n",
    "\n",
    "\n",
    "m = bkrts.explore(color='green')\n",
    "m = trckrts.explore(m=m, color='blue')\n",
    "m = crashes.explore(m=m, color='red')\n",
    "# folium.LayerControl().add_to(m)\n",
    "\n",
    "m\n"
   ]
  },
  {
   "cell_type": "code",
   "execution_count": null,
   "metadata": {},
   "outputs": [],
   "source": [
    "fig, ax = plt.subplots(figsize=(40, 40))\n",
    "# cx.add_basemap(ax, source=cx.providers.CartoDB.Voyager)\n",
    "trckcrashes.plot(ax=ax, color='red', zorder=1)\n",
    "notrckcrashes.plot(ax=ax, color='blue')\n",
    "\n",
    "ax.set_axis_off()"
   ]
  }
 ],
 "metadata": {
  "kernelspec": {
   "display_name": "Python 3.9.6 ('CS-1134')",
   "language": "python",
   "name": "python3"
  },
  "language_info": {
   "codemirror_mode": {
    "name": "ipython",
    "version": 3
   },
   "file_extension": ".py",
   "mimetype": "text/x-python",
   "name": "python",
   "nbconvert_exporter": "python",
   "pygments_lexer": "ipython3",
   "version": "3.9.6"
  },
  "orig_nbformat": 4,
  "vscode": {
   "interpreter": {
    "hash": "56c0d21311f65c91487fbe3a625f3772ea9d3308a5f2dbc8f692ed651b5f8c0c"
   }
  }
 },
 "nbformat": 4,
 "nbformat_minor": 2
}
